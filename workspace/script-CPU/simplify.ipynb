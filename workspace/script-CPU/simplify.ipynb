{
 "cells": [
  {
   "cell_type": "code",
   "execution_count": 1,
   "metadata": {},
   "outputs": [
    {
     "name": "stdout",
     "output_type": "stream",
     "text": [
      "\u001b[1;35mYour model contains \"Tile\" ops or/and \"ConstantOfShape\" ops. Folding these ops \u001b[0m\n",
      "\u001b[1;35mcan make the simplified model much larger. If it is not expected, please specify\u001b[0m\n",
      "\u001b[1;35m\"--no-large-tensor\" (which will lose some optimization chances)\u001b[0m\n",
      "Simplifying\u001b[33m...\u001b[0m\n",
      "Finish! Here is the difference:\n",
      "┏━━━━━━━━━━━━━━━━━┳━━━━━━━━━━━━━━━━┳━━━━━━━━━━━━━━━━━━┓\n",
      "┃\u001b[1m \u001b[0m\u001b[1m               \u001b[0m\u001b[1m \u001b[0m┃\u001b[1m \u001b[0m\u001b[1mOriginal Model\u001b[0m\u001b[1m \u001b[0m┃\u001b[1m \u001b[0m\u001b[1mSimplified Model\u001b[0m\u001b[1m \u001b[0m┃\n",
      "┡━━━━━━━━━━━━━━━━━╇━━━━━━━━━━━━━━━━╇━━━━━━━━━━━━━━━━━━┩\n",
      "│ Add             │ 320            │ \u001b[1;32m161             \u001b[0m │\n",
      "│ Cast            │ 4              │ \u001b[1;32m0               \u001b[0m │\n",
      "│ Concat          │ 125            │ \u001b[1;32m88              \u001b[0m │\n",
      "│ Constant        │ 984            │ \u001b[1;32m217             \u001b[0m │\n",
      "│ ConstantOfShape │ 3              │ \u001b[1;32m1               \u001b[0m │\n",
      "│ Div             │ 50             │ \u001b[1;32m25              \u001b[0m │\n",
      "│ Equal           │ 2              │ \u001b[1;32m1               \u001b[0m │\n",
      "│ Expand          │ 2              │ \u001b[1;32m1               \u001b[0m │\n",
      "│ Gather          │ 55             │ \u001b[1;32m41              \u001b[0m │\n",
      "│ Identity        │ 72             │ \u001b[1;32m0               \u001b[0m │\n",
      "│ Less            │ 1              │ 1                │\n",
      "│ MatMul          │ 192            │ \u001b[1;32m96              \u001b[0m │\n",
      "│ Mul             │ 136            │ \u001b[1;32m73              \u001b[0m │\n",
      "│ Pow             │ 50             │ \u001b[1;32m25              \u001b[0m │\n",
      "│ Range           │ 1              │ 1                │\n",
      "│ ReduceMean      │ 100            │ \u001b[1;32m50              \u001b[0m │\n",
      "│ Reshape         │ 243            │ \u001b[1;32m122             \u001b[0m │\n",
      "│ Shape           │ 54             │ \u001b[1;32m27              \u001b[0m │\n",
      "│ Sigmoid         │ 24             │ \u001b[1;32m12              \u001b[0m │\n",
      "│ Slice           │ 3              │ \u001b[1;32m2               \u001b[0m │\n",
      "│ Softmax         │ 24             │ \u001b[1;32m12              \u001b[0m │\n",
      "│ Sqrt            │ 50             │ \u001b[1;32m25              \u001b[0m │\n",
      "│ Squeeze         │ 2              │ \u001b[1;32m1               \u001b[0m │\n",
      "│ Sub             │ 51             │ \u001b[1;32m26              \u001b[0m │\n",
      "│ Transpose       │ 120            │ \u001b[1;32m60              \u001b[0m │\n",
      "│ Unsqueeze       │ 226            │ \u001b[1;32m53              \u001b[0m │\n",
      "│ Where           │ 3              │ \u001b[1;32m2               \u001b[0m │\n",
      "│ Model Size      │ 470.1MiB       │ \u001b[1;32m470.0MiB        \u001b[0m │\n",
      "└─────────────────┴────────────────┴──────────────────┘\n"
     ]
    }
   ],
   "source": [
    "! onnxsim './onnx-models/TextEmbedding/model.onnx' './onnx-models/TextEmbedding/model-simple.onnx'"
   ]
  },
  {
   "cell_type": "code",
   "execution_count": 2,
   "metadata": {},
   "outputs": [
    {
     "name": "stdout",
     "output_type": "stream",
     "text": [
      "Simplifying\u001b[33m...\u001b[0m\n",
      "Finish! Here is the difference:\n",
      "┏━━━━━━━━━━━━━━━━━━━━━━━┳━━━━━━━━━━━━━━━━┳━━━━━━━━━━━━━━━━━━┓\n",
      "┃\u001b[1m \u001b[0m\u001b[1m                     \u001b[0m\u001b[1m \u001b[0m┃\u001b[1m \u001b[0m\u001b[1mOriginal Model\u001b[0m\u001b[1m \u001b[0m┃\u001b[1m \u001b[0m\u001b[1mSimplified Model\u001b[0m\u001b[1m \u001b[0m┃\n",
      "┡━━━━━━━━━━━━━━━━━━━━━━━╇━━━━━━━━━━━━━━━━╇━━━━━━━━━━━━━━━━━━┩\n",
      "│ Add                   │ 50             │ 50               │\n",
      "│ Cast                  │ 6              │ \u001b[1;32m1               \u001b[0m │\n",
      "│ Clip                  │ 1              │ 1                │\n",
      "│ Concat                │ 6              │ 6                │\n",
      "│ Constant              │ 289            │ \u001b[1;32m158             \u001b[0m │\n",
      "│ Conv                  │ 36             │ 36               │\n",
      "│ Div                   │ 18             │ \u001b[1;32m2               \u001b[0m │\n",
      "│ Gather                │ 10             │ \u001b[1;32m9               \u001b[0m │\n",
      "│ InstanceNormalization │ 30             │ 30               │\n",
      "│ MatMul                │ 6              │ \u001b[1;32m4               \u001b[0m │\n",
      "│ Mul                   │ 63             │ 63               │\n",
      "│ Reshape               │ 66             │ 66               │\n",
      "│ Resize                │ 3              │ 3                │\n",
      "│ Shape                 │ 41             │ \u001b[1;32m37              \u001b[0m │\n",
      "│ Sigmoid               │ 29             │ 29               │\n",
      "│ Slice                 │ 1              │ 1                │\n",
      "│ Softmax               │ 1              │ 1                │\n",
      "│ Split                 │ 0              │ 1                │\n",
      "│ Sqrt                  │ 3              │ \u001b[1;32m2               \u001b[0m │\n",
      "│ Transpose             │ 7              │ 7                │\n",
      "│ Unsqueeze             │ 19             │ \u001b[1;32m10              \u001b[0m │\n",
      "│ Model Size            │ 188.9MiB       │ 188.9MiB         │\n",
      "└───────────────────────┴────────────────┴──────────────────┘\n"
     ]
    }
   ],
   "source": [
    "! onnxsim './onnx-models/Decoder/model.onnx' './onnx-models/Decoder/model-simple.onnx'"
   ]
  }
 ],
 "metadata": {
  "kernelspec": {
   "display_name": "base",
   "language": "python",
   "name": "python3"
  },
  "language_info": {
   "codemirror_mode": {
    "name": "ipython",
    "version": 3
   },
   "file_extension": ".py",
   "mimetype": "text/x-python",
   "name": "python",
   "nbconvert_exporter": "python",
   "pygments_lexer": "ipython3",
   "version": "3.10.13"
  }
 },
 "nbformat": 4,
 "nbformat_minor": 2
}
